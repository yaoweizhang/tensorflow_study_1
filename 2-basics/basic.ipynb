{
 "cells": [
  {
   "cell_type": "code",
   "execution_count": 1,
   "metadata": {},
   "outputs": [],
   "source": [
    "import os\n",
    "import tensorflow as tf"
   ]
  },
  {
   "cell_type": "code",
   "execution_count": 2,
   "metadata": {},
   "outputs": [],
   "source": [
    "tf.app.flags.DEFINE_string(\n",
    "    \"log_dir\", os.path.join(os.path.dirname(os.path.abspath('__file__')), \"logs\"),\n",
    "    \"Directory where event logs are written to.\")\n",
    "tf.app.flags.DEFINE_string(\n",
    "    \"f\", \"\", \"kernel\")\n",
    "FLAGS = tf.app.flags.FLAGS"
   ]
  },
  {
   "cell_type": "code",
   "execution_count": 3,
   "metadata": {},
   "outputs": [],
   "source": [
    "a = tf.constant(5.0, name=\"a\")\n",
    "b = tf.constant(10.1, name=\"b\")"
   ]
  },
  {
   "cell_type": "code",
   "execution_count": 4,
   "metadata": {},
   "outputs": [],
   "source": [
    "x = tf.add(a, b, name=\"add\")\n",
    "y = tf.div(a, b, name=\"divide\")"
   ]
  },
  {
   "cell_type": "code",
   "execution_count": 5,
   "metadata": {},
   "outputs": [
    {
     "name": "stdout",
     "output_type": "stream",
     "text": [
      "a =  5.0\n",
      "b =  10.1\n",
      "a + b =  15.1\n",
      "a/b =  0.49504948\n"
     ]
    }
   ],
   "source": [
    "with tf.Session() as sess:\n",
    "    writer = tf.summary.FileWriter(os.path.expanduser(FLAGS.log_dir), sess.graph)\n",
    "    print(\"a = \", sess.run(a))\n",
    "    print(\"b = \", sess.run(b))\n",
    "    print(\"a + b = \", sess.run(x))\n",
    "    print(\"a/b = \", sess.run(y))"
   ]
  },
  {
   "cell_type": "code",
   "execution_count": 6,
   "metadata": {},
   "outputs": [],
   "source": [
    "sess.close()"
   ]
  },
  {
   "cell_type": "code",
   "execution_count": 7,
   "metadata": {},
   "outputs": [],
   "source": [
    "writer.close()"
   ]
  },
  {
   "cell_type": "code",
   "execution_count": 8,
   "metadata": {},
   "outputs": [],
   "source": [
    "from tensorflow.python.framework import ops"
   ]
  },
  {
   "cell_type": "code",
   "execution_count": 9,
   "metadata": {},
   "outputs": [],
   "source": [
    "weights = tf.Variable(tf.random_normal([2, 3], stddev=0.1), name=\"weights\")\n",
    "biases = tf.Variable(tf.zeros([3]), name=\"biases\")\n",
    "custom_variable = tf.Variable(tf.zeros([3]), name=\"custom\")\n",
    "\n",
    "all_variables_list = ops.get_collection(ops.GraphKeys.GLOBAL_VARIABLES)"
   ]
  },
  {
   "cell_type": "code",
   "execution_count": 10,
   "metadata": {},
   "outputs": [],
   "source": [
    "#init specific variables\n",
    "#variable_list_custom = [weights, custom_variable]\n",
    "\n",
    "#init_custom_op = tf.variables_initializer(var_list=variable_list_custom)"
   ]
  },
  {
   "cell_type": "code",
   "execution_count": 11,
   "metadata": {},
   "outputs": [],
   "source": [
    "#global variable init\n",
    "\n",
    "#method 1\n",
    "#init_all_op = tf.global_variables_initializer()\n",
    "#method 2\n",
    "init_all_op = tf.variables_initializer(var_list=all_variables_list)"
   ]
  },
  {
   "cell_type": "code",
   "execution_count": 12,
   "metadata": {},
   "outputs": [],
   "source": [
    "WeightsNew = tf.Variable(weights.initialized_value(), name=\"WeightsNew\")\n",
    "init_WeightsNew_op = tf.variables_initializer(var_list=[WeightsNew])"
   ]
  },
  {
   "cell_type": "code",
   "execution_count": 14,
   "metadata": {},
   "outputs": [
    {
     "name": "stdout",
     "output_type": "stream",
     "text": [
      "[[ 0.05051288  0.00494426 -0.07888947]\n",
      " [ 0.13680662 -0.07086431 -0.02419107]]\n",
      "[0. 0. 0.]\n",
      "[0. 0. 0.]\n",
      "[[ 0.05051288  0.00494426 -0.07888947]\n",
      " [ 0.13680662 -0.07086431 -0.02419107]]\n"
     ]
    }
   ],
   "source": [
    "with tf.Session() as sess:\n",
    "    writer = tf.summary.FileWriter(os.path.expanduser(FLAGS.log_dir), sess.graph)\n",
    "    sess.run(init_all_op)\n",
    "    print(sess.run(weights))\n",
    "    print(sess.run(biases))\n",
    "    print(sess.run(custom_variable))\n",
    "    #print(sess.run(WeightsNew))\n",
    "    #sess.run(init_custom_op)\n",
    "    sess.run(init_WeightsNew_op)\n",
    "    print(sess.run(WeightsNew))\n",
    "    \n",
    "writer.close()\n",
    "sess.close()"
   ]
  }
 ],
 "metadata": {
  "kernelspec": {
   "display_name": "Python 3",
   "language": "python",
   "name": "python3"
  },
  "language_info": {
   "codemirror_mode": {
    "name": "ipython",
    "version": 3
   },
   "file_extension": ".py",
   "mimetype": "text/x-python",
   "name": "python",
   "nbconvert_exporter": "python",
   "pygments_lexer": "ipython3",
   "version": "3.5.6"
  }
 },
 "nbformat": 4,
 "nbformat_minor": 2
}

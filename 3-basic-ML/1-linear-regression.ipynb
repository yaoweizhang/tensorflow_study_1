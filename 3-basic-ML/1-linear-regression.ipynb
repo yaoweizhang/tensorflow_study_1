{
 "cells": [
  {
   "cell_type": "code",
   "execution_count": 1,
   "metadata": {},
   "outputs": [],
   "source": [
    "import tensorflow as tf\n",
    "import numpy as np\n",
    "import xlrd\n",
    "import os"
   ]
  },
  {
   "cell_type": "code",
   "execution_count": 2,
   "metadata": {},
   "outputs": [],
   "source": [
    "data_file = \"fire_theft.xls\"\n",
    "book = xlrd.open_workbook(data_file, encoding_override=\"utf-8\")\n",
    "sheet = book.sheet_by_index(0)\n",
    "data = np.asarray([sheet.row_values(i) for i in range(1, sheet.nrows)])\n",
    "num_samples = sheet.nrows-1"
   ]
  },
  {
   "cell_type": "code",
   "execution_count": 3,
   "metadata": {},
   "outputs": [],
   "source": [
    "tf.app.flags.DEFINE_string(\n",
    "    \"log_dir\", os.path.join(os.path.dirname(os.path.abspath('__file__')), \"logs\"),\n",
    "    \"Directory where event logs are written to.\")\n",
    "tf.app.flags.DEFINE_string(\n",
    "    \"f\", \"\", \"kernel\")\n",
    "tf.app.flags.DEFINE_integer(\"num_epochs\", 10, \"The number of epochs for training the model, default is 10\")\n",
    "FLAGS = tf.app.flags.FLAGS"
   ]
  },
  {
   "cell_type": "code",
   "execution_count": 4,
   "metadata": {},
   "outputs": [],
   "source": [
    "W = tf.Variable(0.0, name=\"weights\")\n",
    "b = tf.Variable(0.0, name=\"bias\")"
   ]
  },
  {
   "cell_type": "code",
   "execution_count": 5,
   "metadata": {},
   "outputs": [],
   "source": [
    "def inputs():\n",
    "    X = tf.placeholder(tf.float32, name=\"X\")\n",
    "    Y = tf.placeholder(tf.float32, name=\"Y\")\n",
    "    return X, Y"
   ]
  },
  {
   "cell_type": "code",
   "execution_count": 6,
   "metadata": {},
   "outputs": [],
   "source": [
    "def inference(X):\n",
    "    return X*W+b"
   ]
  },
  {
   "cell_type": "code",
   "execution_count": 7,
   "metadata": {},
   "outputs": [],
   "source": [
    "def loss(X, Y):\n",
    "    Y_predicted = inference(X)\n",
    "    return tf.squared_difference(Y, Y_predicted)"
   ]
  },
  {
   "cell_type": "code",
   "execution_count": 8,
   "metadata": {},
   "outputs": [],
   "source": [
    "def train(loss):\n",
    "    learning_rate = 0.001\n",
    "    return tf.train.GradientDescentOptimizer(learning_rate).minimize(loss)"
   ]
  },
  {
   "cell_type": "code",
   "execution_count": 9,
   "metadata": {},
   "outputs": [
    {
     "name": "stdout",
     "output_type": "stream",
     "text": [
      "epoch %d, loss=%f (1, 16.05426)\n",
      "epoch %d, loss=%f (2, 13.996817)\n",
      "epoch %d, loss=%f (3, 12.129507)\n",
      "epoch %d, loss=%f (4, 10.440162)\n",
      "epoch %d, loss=%f (5, 8.9173355)\n",
      "epoch %d, loss=%f (6, 7.550231)\n",
      "epoch %d, loss=%f (7, 6.3286476)\n",
      "epoch %d, loss=%f (8, 5.242986)\n",
      "epoch %d, loss=%f (9, 4.2842355)\n",
      "epoch %d, loss=%f (10, 3.4438615)\n"
     ]
    }
   ],
   "source": [
    "with tf.Session() as sess:\n",
    "    sess.run(tf.global_variables_initializer())\n",
    "    writer = tf.summary.FileWriter(os.path.expanduser(FLAGS.log_dir), sess.graph)\n",
    "    \n",
    "    X, Y = inputs()\n",
    "    \n",
    "    train_loss = loss(X, Y)\n",
    "    train_op = train(train_loss)\n",
    "    \n",
    "    for epoch_num in range(FLAGS.num_epochs):\n",
    "        for x, y in data:\n",
    "            train_op = train(train_loss)\n",
    "            loss_value, _ = sess.run([train_loss, train_op], feed_dict={X:x, Y:y})\n",
    "            \n",
    "        print(\"epoch %d, loss=%f\"%(epoch_num+1, loss_value))\n",
    "        wcoeff, bias =sess.run([W,b])        "
   ]
  },
  {
   "cell_type": "code",
   "execution_count": 11,
   "metadata": {},
   "outputs": [
    {
     "data": {
      "image/png": "[encoded data removed]",
      "text/plain": [
       "<Figure size 432x288 with 1 Axes>"
      ]
     },
     "metadata": {
      "needs_background": "light"
     },
     "output_type": "display_data"
    }
   ],
   "source": [
    "import matplotlib.pyplot as plt\n",
    "x_val = data[:,0]\n",
    "labels = data[:, 1]\n",
    "prediction_val = x_val * wcoeff + bias\n",
    "\n",
    "plt.plot(x_val, labels, \"ro\", label=\"main\")\n",
    "plt.plot(x_val, prediction_val, label=\"predicted\")\n",
    "plt.legend()\n",
    "plt.show()\n",
    "writer.close()"
   ]
  },
  {
   "cell_type": "code",
   "execution_count": null,
   "metadata": {},
   "outputs": [],
   "source": []
  }
 ],
 "metadata": {
  "kernelspec": {
   "display_name": "Python 3",
   "language": "python",
   "name": "python3"
  },
  "language_info": {
   "codemirror_mode": {
    "name": "ipython",
    "version": 3
   },
   "file_extension": ".py",
   "mimetype": "text/x-python",
   "name": "python",
   "nbconvert_exporter": "python",
   "pygments_lexer": "ipython3",
   "version": "3.5.6"
  }
 },
 "nbformat": 4,
 "nbformat_minor": 2
}
